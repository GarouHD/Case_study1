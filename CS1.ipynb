{
 "cells": [
  {
   "cell_type": "code",
   "execution_count": 79,
   "id": "1f677f37",
   "metadata": {},
   "outputs": [],
   "source": [
    "import pandas as pd\n",
    "import numpy as np\n",
    "import matplotlib.pyplot as plt\n",
    "from sklearn import preprocessing\n",
    "from sklearn.model_selection import train_test_split\n",
    "from sklearn.linear_model import LogisticRegression\n",
    "from sklearn.metrics import accuracy_score\n",
    "from sklearn.model_selection import cross_val_score\n",
    "from sklearn.model_selection import GridSearchCV\n",
    "from sklearn import svm\n",
    "from sklearn.svm import SVC\n",
    "from sklearn.tree import DecisionTreeClassifier"
   ]
  },
  {
   "cell_type": "code",
   "execution_count": 16,
   "id": "9a42d44e",
   "metadata": {},
   "outputs": [],
   "source": [
    "data = pd.read_csv('train.csv').to_numpy()\n",
    "X = data[:,0:-1]\n",
    "y = data[:,-1]"
   ]
  },
  {
   "cell_type": "code",
   "execution_count": 20,
   "id": "b58d4bbc",
   "metadata": {},
   "outputs": [],
   "source": [
    "X = preprocessing.StandardScaler().fit_transform(X)\n",
    "\n",
    "# should we bother? idk\n",
    "X_train, X_test, y_train, y_test = train_test_split(X, y, random_state=42)"
   ]
  },
  {
   "cell_type": "code",
   "execution_count": null,
   "id": "848df42b",
   "metadata": {},
   "outputs": [],
   "source": [
    "# PCA?"
   ]
  },
  {
   "cell_type": "code",
   "execution_count": null,
   "id": "2d2205a4",
   "metadata": {},
   "outputs": [],
   "source": [
    "# LDA?"
   ]
  },
  {
   "cell_type": "code",
   "execution_count": null,
   "id": "7616cd56",
   "metadata": {},
   "outputs": [],
   "source": [
    "# feature selection? (forward/backward)"
   ]
  },
  {
   "cell_type": "markdown",
   "id": "0740a7ad",
   "metadata": {},
   "source": [
    "# Logistic Regression"
   ]
  },
  {
   "cell_type": "code",
   "execution_count": 61,
   "id": "9facc95f",
   "metadata": {},
   "outputs": [],
   "source": [
    "param_grid = [\n",
    "  {'C': [.001, .01, .1, 1, 2, 3, 4, 5, 6, 7, 8, 9, 10, 11, 12, 13, 14, 15, 16, 17, 18, 19, 20, 100, 1000], 'penalty': ['l2']},\n",
    "  {'penalty': [None]},\n",
    "  {'C': [.001, .01, .1, 1, 2, 3, 4, 5, 6, 7, 8, 9, 10, 11, 12, 13, 14, 15, 16, 17, 18, 19, 20, 100, 1000], 'solver': ['liblinear'], 'penalty': ['l1']},\n",
    " ]\n"
   ]
  },
  {
   "cell_type": "code",
   "execution_count": 63,
   "id": "2a4e8fe8",
   "metadata": {},
   "outputs": [
    {
     "name": "stdout",
     "output_type": "stream",
     "text": [
      "Best parameter combination: {'C': 5, 'penalty': 'l2'}\n",
      "Best score: 0.7412500000000001\n"
     ]
    }
   ],
   "source": [
    "lr = LogisticRegression(random_state=0)\n",
    "grid_search = GridSearchCV(lr, param_grid, cv=10, scoring='accuracy')\n",
    "grid_search.fit(X, y)\n",
    "\n",
    "results = grid_search.cv_results_\n",
    "mean_scores = results['mean_test_score']\n",
    "params = results['params']\n",
    "\n",
    "best_index = np.argmax(mean_scores)\n",
    "\n",
    "best_params = params[best_index]\n",
    "\n",
    "best_score = mean_scores[best_index]\n",
    "\n",
    "print(\"Best parameter combination:\", best_params)\n",
    "print(\"Best score:\", best_score)\n"
   ]
  },
  {
   "cell_type": "markdown",
   "id": "5362d616",
   "metadata": {},
   "source": [
    "# SVM"
   ]
  },
  {
   "cell_type": "code",
   "execution_count": 73,
   "id": "f37bd29f",
   "metadata": {},
   "outputs": [],
   "source": [
    "param_grid = [\n",
    "  {'C': [.001, .01, .1, 1, 10, 100, 1000], 'kernel': ['linear']},\n",
    "  {'C': [.001, .01, .1, 1, 10, 100, 1000] , 'gamma': [.0001, .001, .01], 'kernel': ['rbf']},\n",
    " ]"
   ]
  },
  {
   "cell_type": "code",
   "execution_count": 77,
   "id": "2b9bd201",
   "metadata": {},
   "outputs": [
    {
     "name": "stdout",
     "output_type": "stream",
     "text": [
      "Best parameter combination: {'C': 1000, 'gamma': 0.01, 'kernel': 'rbf'}\n",
      "Best score: 0.8846875000000001\n"
     ]
    }
   ],
   "source": [
    "svc = svm.SVC()\n",
    "grid_search = GridSearchCV(svc, param_grid, cv=10, scoring='accuracy')\n",
    "grid_search.fit(X, y)\n",
    "\n",
    "results = grid_search.cv_results_\n",
    "mean_scores = results['mean_test_score']\n",
    "params = results['params']\n",
    "\n",
    "best_index = np.argmax(mean_scores)\n",
    "\n",
    "best_params = params[best_index]\n",
    "\n",
    "best_score = mean_scores[best_index]\n",
    "\n",
    "print(\"Best parameter combination:\", best_params)\n",
    "print(\"Best score:\", best_score)\n"
   ]
  },
  {
   "cell_type": "code",
   "execution_count": 91,
   "id": "75b825ea",
   "metadata": {},
   "outputs": [
    {
     "data": {
      "text/plain": [
       "0.87125"
      ]
     },
     "execution_count": 91,
     "metadata": {},
     "output_type": "execute_result"
    }
   ],
   "source": [
    "svc = svm.SVC(kernel='rbf', gamma=.01, C=1000)\n",
    "svc.fit(X_train, y_train)\n",
    "y_pred = svc.predict(X_test)\n",
    "final_acc = accuracy_score(y_pred, y_test)\n",
    "final_acc"
   ]
  },
  {
   "cell_type": "markdown",
   "id": "b32398a4",
   "metadata": {},
   "source": [
    "# Decision Tree"
   ]
  },
  {
   "cell_type": "code",
   "execution_count": 89,
   "id": "e59f1670",
   "metadata": {},
   "outputs": [],
   "source": [
    "param_grid = [\n",
    "  {'max_depth': [1, 2, 3, 4, 5, 6, 7, 8, 9, 10, 11, 12, 13, 14, 15, 16, 17, 18, 19, 20, 21, 22, 23, 24, 25, 26, 27, 28, 29, 30], 'criterion': ['gini', 'entropy', 'log_loss']}\n",
    " ]"
   ]
  },
  {
   "cell_type": "code",
   "execution_count": 90,
   "id": "f40caee6",
   "metadata": {},
   "outputs": [
    {
     "name": "stdout",
     "output_type": "stream",
     "text": [
      "Best parameter combination: {'criterion': 'entropy', 'max_depth': 22}\n",
      "Best score: 0.818125\n"
     ]
    }
   ],
   "source": [
    "dt = DecisionTreeClassifier(random_state=0)\n",
    "grid_search = GridSearchCV(dt, param_grid, cv=10, scoring='accuracy')\n",
    "grid_search.fit(X, y)\n",
    "\n",
    "results = grid_search.cv_results_\n",
    "mean_scores = results['mean_test_score']\n",
    "params = results['params']\n",
    "\n",
    "best_index = np.argmax(mean_scores)\n",
    "\n",
    "best_params = params[best_index]\n",
    "\n",
    "best_score = mean_scores[best_index]\n",
    "\n",
    "print(\"Best parameter combination:\", best_params)\n",
    "print(\"Best score:\", best_score)\n"
   ]
  },
  {
   "cell_type": "code",
   "execution_count": null,
   "id": "fd7d9def",
   "metadata": {},
   "outputs": [],
   "source": []
  },
  {
   "cell_type": "code",
   "execution_count": null,
   "id": "c230a3e4",
   "metadata": {},
   "outputs": [],
   "source": []
  },
  {
   "cell_type": "code",
   "execution_count": null,
   "id": "49ea92bb",
   "metadata": {},
   "outputs": [],
   "source": []
  }
 ],
 "metadata": {
  "kernelspec": {
   "display_name": "Python 3 (ipykernel)",
   "language": "python",
   "name": "python3"
  },
  "language_info": {
   "codemirror_mode": {
    "name": "ipython",
    "version": 3
   },
   "file_extension": ".py",
   "mimetype": "text/x-python",
   "name": "python",
   "nbconvert_exporter": "python",
   "pygments_lexer": "ipython3",
   "version": "3.9.4"
  }
 },
 "nbformat": 4,
 "nbformat_minor": 5
}
